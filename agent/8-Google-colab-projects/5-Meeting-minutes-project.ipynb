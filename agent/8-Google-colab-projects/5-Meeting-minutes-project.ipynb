{
 "cells": [
  {
   "cell_type": "markdown",
   "id": "a66ef57b",
   "metadata": {},
   "source": [
    "## Meeting minutes creator\n",
    "\n",
    "In this colab, we make a meeting minutes program.\n",
    "\n",
    "It includes useful code to connect your Google Drive to your colab.\n",
    "\n",
    "Upload your own audio to make this work!!\n",
    "\n",
    "https://colab.research.google.com/drive/1KhFFRaVww8K1WsfO5ANSwWE4pzVMJfsJ\n",
    "\n",
    "This should run nicely on a low-cost or free T4 box."
   ]
  }
 ],
 "metadata": {
  "language_info": {
   "name": "python"
  }
 },
 "nbformat": 4,
 "nbformat_minor": 5
}
