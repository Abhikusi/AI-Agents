{
 "cells": [
  {
   "cell_type": "markdown",
   "id": "93788c24",
   "metadata": {},
   "source": [
    "## HuggingFace pipelines\n",
    "\n",
    "For this session we head to Google Colab and use this Notebook to explore the HuggingFace High Level API, pipelines.\n",
    "\n",
    "https://colab.research.google.com/drive/10yAaJnJVCCojeRlGIAB5PocJEoaUv-do\n",
    "\n",
    "You can use a low cost (or free) T4 GPU runtime for this notebook - and the results look great!\n",
    "\n",
    "There are instructions in the notebook for setting up your HuggingFace Token and including it as a secret in the notebook."
   ]
  }
 ],
 "metadata": {
  "language_info": {
   "name": "python"
  }
 },
 "nbformat": 4,
 "nbformat_minor": 5
}
