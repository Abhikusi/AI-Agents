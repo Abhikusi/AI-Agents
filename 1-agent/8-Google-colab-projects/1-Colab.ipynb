{
 "cells": [
  {
   "cell_type": "markdown",
   "id": "567603b1",
   "metadata": {},
   "source": [
    "## Introducing Colab\n",
    "\n",
    "Learn about Google Colab and set up a Google account (if you don't already have one) here\n",
    "\n",
    "You should be able to use the free tier or minimal spend to complete all the projects in the class. I personally signed up for Colab Pro+ and I'm loving it - but it's not required.\n",
    "\n",
    "To see some of what Colab can do, please follow the link below!\n",
    "\n",
    "https://colab.research.google.com/drive/1DjcrYDZldAXKJ08x1uYIVCtItoLPk1Wr?usp=sharing"
   ]
  }
 ],
 "metadata": {
  "language_info": {
   "name": "python"
  }
 },
 "nbformat": 4,
 "nbformat_minor": 5
}
