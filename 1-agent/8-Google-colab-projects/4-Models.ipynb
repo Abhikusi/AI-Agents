{
 "cells": [
  {
   "cell_type": "markdown",
   "id": "c630c479",
   "metadata": {},
   "source": [
    "## Models\n",
    "\n",
    "And now - this colab unveils the heart (or the brains?) of the transformers library - the models:\n",
    "\n",
    "https://colab.research.google.com/drive/1hwfVn2oowtcfeB_y9f37segth0LJEPGW\n",
    "\n",
    "This should run nicely on a low-cost or free T4 box."
   ]
  }
 ],
 "metadata": {
  "language_info": {
   "name": "python"
  }
 },
 "nbformat": 4,
 "nbformat_minor": 5
}
